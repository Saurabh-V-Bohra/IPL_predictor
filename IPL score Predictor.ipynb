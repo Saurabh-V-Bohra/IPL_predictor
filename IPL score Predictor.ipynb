{
 "cells": [
  {
   "cell_type": "code",
   "execution_count": 1,
   "metadata": {},
   "outputs": [],
   "source": [
    "import pandas as pd\n",
    "import numpy as np"
   ]
  },
  {
   "cell_type": "code",
   "execution_count": 2,
   "metadata": {},
   "outputs": [
    {
     "name": "stderr",
     "output_type": "stream",
     "text": [
      "C:\\ProgramData\\Anaconda3\\lib\\site-packages\\IPython\\core\\interactiveshell.py:3165: DtypeWarning: Columns (1) have mixed types.Specify dtype option on import or set low_memory=False.\n",
      "  has_raised = await self.run_ast_nodes(code_ast.body, cell_name,\n"
     ]
    }
   ],
   "source": [
    "df=pd.read_csv(r'C:\\Users\\Saurabh\\Downloads\\ipl\\all_matches.csv')\n"
   ]
  },
  {
   "cell_type": "markdown",
   "metadata": {},
   "source": [
    "Stadium where the current matches are being played"
   ]
  },
  {
   "cell_type": "code",
   "execution_count": 3,
   "metadata": {},
   "outputs": [],
   "source": [
    "stadium=['Wankhede Stadium','Wankhede Stadium, Mumbai','Eden Gardens','Sardar Patel Stadium, Motera','Narendra Modi Stadium',\n",
    "        'MA Chidambaram Stadium','MA Chidambaram Stadium, Chepauk, Chennai','MA Chidambaram Stadium, Chepauk','Arun Jaitley Stadium',\n",
    "        'Feroz Shah Kotla','M.Chinnaswamy Stadium','M Chinnaswamy Stadium']"
   ]
  },
  {
   "cell_type": "code",
   "execution_count": 4,
   "metadata": {},
   "outputs": [],
   "source": [
    "new_venue=df[df.venue.isin(stadium)]"
   ]
  },
  {
   "cell_type": "code",
   "execution_count": 5,
   "metadata": {},
   "outputs": [],
   "source": [
    "inn=[1,2]"
   ]
  },
  {
   "cell_type": "code",
   "execution_count": 6,
   "metadata": {},
   "outputs": [],
   "source": [
    "new_venue=new_venue[new_venue.innings.isin(inn)]"
   ]
  },
  {
   "cell_type": "markdown",
   "metadata": {},
   "source": [
    "Teams currently playing the Matches"
   ]
  },
  {
   "cell_type": "code",
   "execution_count": 7,
   "metadata": {},
   "outputs": [],
   "source": [
    "teams=['Mumbai Indians','Kolkata Knight Riders','Royal Challengers Bangalore','Chennai Super Kings','Rajasthan Royals',\n",
    "      'Kings XI Punjab','Punjab Kings','Sunrisers Hyderabad','Delhi Capitals','Delhi Daredevils']"
   ]
  },
  {
   "cell_type": "code",
   "execution_count": 8,
   "metadata": {},
   "outputs": [],
   "source": [
    "new_venue=new_venue[new_venue.batting_team.isin(teams)]"
   ]
  },
  {
   "cell_type": "code",
   "execution_count": 9,
   "metadata": {},
   "outputs": [],
   "source": [
    "new_venue.fillna(value=0,inplace=True)"
   ]
  },
  {
   "cell_type": "code",
   "execution_count": 10,
   "metadata": {},
   "outputs": [],
   "source": [
    "new_venue=new_venue[new_venue.bowling_team.isin(teams)]"
   ]
  },
  {
   "cell_type": "code",
   "execution_count": 11,
   "metadata": {},
   "outputs": [],
   "source": [
    "new_venue=new_venue[(new_venue.wides==0) | (new_venue.noballs==0) | (new_venue.penalty==0)]"
   ]
  },
  {
   "cell_type": "code",
   "execution_count": 12,
   "metadata": {},
   "outputs": [],
   "source": [
    "new_venue['total_runs']=new_venue['runs_off_bat']+new_venue['extras']"
   ]
  },
  {
   "cell_type": "code",
   "execution_count": 13,
   "metadata": {},
   "outputs": [],
   "source": [
    "new_venue=new_venue[new_venue.ball<6]"
   ]
  },
  {
   "cell_type": "code",
   "execution_count": 14,
   "metadata": {},
   "outputs": [],
   "source": [
    "new_venue = new_venue[new_venue['match_id'] != 1178424]"
   ]
  },
  {
   "cell_type": "code",
   "execution_count": 15,
   "metadata": {},
   "outputs": [],
   "source": [
    "new_venue = new_venue[new_venue['match_id'] != 336021]"
   ]
  },
  {
   "cell_type": "code",
   "execution_count": 16,
   "metadata": {},
   "outputs": [],
   "source": [
    "new_venue=new_venue[new_venue['match_id']!= 829813]"
   ]
  },
  {
   "cell_type": "code",
   "execution_count": 17,
   "metadata": {},
   "outputs": [],
   "source": [
    "new_venue['ball'] = new_venue['ball'].astype('str')"
   ]
  },
  {
   "cell_type": "code",
   "execution_count": 18,
   "metadata": {},
   "outputs": [],
   "source": [
    "new_venue['ball'] = new_venue['ball'].apply(lambda x: x.replace(x[-1],'6') if x[-1] in ['7','8','9'] else x)"
   ]
  },
  {
   "cell_type": "code",
   "execution_count": 19,
   "metadata": {},
   "outputs": [],
   "source": [
    "new_venue['ball'] = new_venue['ball'].astype('float64')"
   ]
  },
  {
   "cell_type": "code",
   "execution_count": 20,
   "metadata": {},
   "outputs": [],
   "source": [
    "# new_venue.drop[columns=['match_id','season','start_date','striker','non_striker','bowler','runs_off_bat','extras','wides',\\\n",
    "# 'noballs','byes','legbyes','penalty','wicket_type'],axis=1,inplace=True]"
   ]
  },
  {
   "cell_type": "code",
   "execution_count": 21,
   "metadata": {},
   "outputs": [],
   "source": [
    "new_venue = new_venue[['match_id','venue','innings','batting_team','bowling_team','ball','total_runs']]"
   ]
  },
  {
   "cell_type": "code",
   "execution_count": null,
   "metadata": {},
   "outputs": [],
   "source": []
  },
  {
   "cell_type": "code",
   "execution_count": 22,
   "metadata": {},
   "outputs": [],
   "source": [
    "total=new_venue.groupby(['match_id','venue','innings'])['total_runs'].sum()"
   ]
  },
  {
   "cell_type": "code",
   "execution_count": 23,
   "metadata": {},
   "outputs": [
    {
     "data": {
      "text/plain": [
       "match_id  venue                                     innings\n",
       "335982    M Chinnaswamy Stadium                     1          61\n",
       "                                                    2          26\n",
       "335984    Feroz Shah Kotla                          1          40\n",
       "                                                    2          55\n",
       "335985    Wankhede Stadium                          1          47\n",
       "                                                               ..\n",
       "1254058   MA Chidambaram Stadium, Chepauk, Chennai  2          46\n",
       "1254059   Wankhede Stadium, Mumbai                  1          33\n",
       "                                                    2          65\n",
       "1254060   MA Chidambaram Stadium, Chepauk, Chennai  1          50\n",
       "                                                    2          35\n",
       "Name: total_runs, Length: 639, dtype: int64"
      ]
     },
     "execution_count": 23,
     "metadata": {},
     "output_type": "execute_result"
    }
   ],
   "source": [
    "total"
   ]
  },
  {
   "cell_type": "code",
   "execution_count": null,
   "metadata": {},
   "outputs": [],
   "source": []
  },
  {
   "cell_type": "code",
   "execution_count": 24,
   "metadata": {},
   "outputs": [],
   "source": [
    "Total = pd.DataFrame(total)"
   ]
  },
  {
   "cell_type": "code",
   "execution_count": 25,
   "metadata": {},
   "outputs": [],
   "source": [
    "import pandasql as pds"
   ]
  },
  {
   "cell_type": "code",
   "execution_count": 26,
   "metadata": {},
   "outputs": [],
   "source": [
    "z=pds.sqldf(\"select * from Total\")"
   ]
  },
  {
   "cell_type": "code",
   "execution_count": 27,
   "metadata": {},
   "outputs": [
    {
     "data": {
      "text/html": [
       "<div>\n",
       "<style scoped>\n",
       "    .dataframe tbody tr th:only-of-type {\n",
       "        vertical-align: middle;\n",
       "    }\n",
       "\n",
       "    .dataframe tbody tr th {\n",
       "        vertical-align: top;\n",
       "    }\n",
       "\n",
       "    .dataframe thead th {\n",
       "        text-align: right;\n",
       "    }\n",
       "</style>\n",
       "<table border=\"1\" class=\"dataframe\">\n",
       "  <thead>\n",
       "    <tr style=\"text-align: right;\">\n",
       "      <th></th>\n",
       "      <th>match_id</th>\n",
       "      <th>venue</th>\n",
       "      <th>innings</th>\n",
       "      <th>total_runs</th>\n",
       "    </tr>\n",
       "  </thead>\n",
       "  <tbody>\n",
       "    <tr>\n",
       "      <th>0</th>\n",
       "      <td>335982</td>\n",
       "      <td>M Chinnaswamy Stadium</td>\n",
       "      <td>1</td>\n",
       "      <td>61</td>\n",
       "    </tr>\n",
       "    <tr>\n",
       "      <th>1</th>\n",
       "      <td>335982</td>\n",
       "      <td>M Chinnaswamy Stadium</td>\n",
       "      <td>2</td>\n",
       "      <td>26</td>\n",
       "    </tr>\n",
       "    <tr>\n",
       "      <th>2</th>\n",
       "      <td>335984</td>\n",
       "      <td>Feroz Shah Kotla</td>\n",
       "      <td>1</td>\n",
       "      <td>40</td>\n",
       "    </tr>\n",
       "    <tr>\n",
       "      <th>3</th>\n",
       "      <td>335984</td>\n",
       "      <td>Feroz Shah Kotla</td>\n",
       "      <td>2</td>\n",
       "      <td>55</td>\n",
       "    </tr>\n",
       "    <tr>\n",
       "      <th>4</th>\n",
       "      <td>335985</td>\n",
       "      <td>Wankhede Stadium</td>\n",
       "      <td>1</td>\n",
       "      <td>47</td>\n",
       "    </tr>\n",
       "    <tr>\n",
       "      <th>...</th>\n",
       "      <td>...</td>\n",
       "      <td>...</td>\n",
       "      <td>...</td>\n",
       "      <td>...</td>\n",
       "    </tr>\n",
       "    <tr>\n",
       "      <th>634</th>\n",
       "      <td>1254058</td>\n",
       "      <td>MA Chidambaram Stadium, Chepauk, Chennai</td>\n",
       "      <td>2</td>\n",
       "      <td>46</td>\n",
       "    </tr>\n",
       "    <tr>\n",
       "      <th>635</th>\n",
       "      <td>1254059</td>\n",
       "      <td>Wankhede Stadium, Mumbai</td>\n",
       "      <td>1</td>\n",
       "      <td>33</td>\n",
       "    </tr>\n",
       "    <tr>\n",
       "      <th>636</th>\n",
       "      <td>1254059</td>\n",
       "      <td>Wankhede Stadium, Mumbai</td>\n",
       "      <td>2</td>\n",
       "      <td>65</td>\n",
       "    </tr>\n",
       "    <tr>\n",
       "      <th>637</th>\n",
       "      <td>1254060</td>\n",
       "      <td>MA Chidambaram Stadium, Chepauk, Chennai</td>\n",
       "      <td>1</td>\n",
       "      <td>50</td>\n",
       "    </tr>\n",
       "    <tr>\n",
       "      <th>638</th>\n",
       "      <td>1254060</td>\n",
       "      <td>MA Chidambaram Stadium, Chepauk, Chennai</td>\n",
       "      <td>2</td>\n",
       "      <td>35</td>\n",
       "    </tr>\n",
       "  </tbody>\n",
       "</table>\n",
       "<p>639 rows × 4 columns</p>\n",
       "</div>"
      ],
      "text/plain": [
       "     match_id                                     venue  innings  total_runs\n",
       "0      335982                     M Chinnaswamy Stadium        1          61\n",
       "1      335982                     M Chinnaswamy Stadium        2          26\n",
       "2      335984                          Feroz Shah Kotla        1          40\n",
       "3      335984                          Feroz Shah Kotla        2          55\n",
       "4      335985                          Wankhede Stadium        1          47\n",
       "..        ...                                       ...      ...         ...\n",
       "634   1254058  MA Chidambaram Stadium, Chepauk, Chennai        2          46\n",
       "635   1254059                  Wankhede Stadium, Mumbai        1          33\n",
       "636   1254059                  Wankhede Stadium, Mumbai        2          65\n",
       "637   1254060  MA Chidambaram Stadium, Chepauk, Chennai        1          50\n",
       "638   1254060  MA Chidambaram Stadium, Chepauk, Chennai        2          35\n",
       "\n",
       "[639 rows x 4 columns]"
      ]
     },
     "execution_count": 27,
     "metadata": {},
     "output_type": "execute_result"
    }
   ],
   "source": [
    "z"
   ]
  },
  {
   "cell_type": "code",
   "execution_count": 28,
   "metadata": {},
   "outputs": [],
   "source": [
    "z=pd.DataFrame(z)"
   ]
  },
  {
   "cell_type": "code",
   "execution_count": 29,
   "metadata": {},
   "outputs": [],
   "source": [
    "z=z.rename(columns={'total_runs':\"score\"})"
   ]
  },
  {
   "cell_type": "code",
   "execution_count": 30,
   "metadata": {},
   "outputs": [
    {
     "data": {
      "text/html": [
       "<div>\n",
       "<style scoped>\n",
       "    .dataframe tbody tr th:only-of-type {\n",
       "        vertical-align: middle;\n",
       "    }\n",
       "\n",
       "    .dataframe tbody tr th {\n",
       "        vertical-align: top;\n",
       "    }\n",
       "\n",
       "    .dataframe thead th {\n",
       "        text-align: right;\n",
       "    }\n",
       "</style>\n",
       "<table border=\"1\" class=\"dataframe\">\n",
       "  <thead>\n",
       "    <tr style=\"text-align: right;\">\n",
       "      <th></th>\n",
       "      <th>match_id</th>\n",
       "      <th>venue</th>\n",
       "      <th>innings</th>\n",
       "      <th>score</th>\n",
       "    </tr>\n",
       "  </thead>\n",
       "  <tbody>\n",
       "    <tr>\n",
       "      <th>0</th>\n",
       "      <td>335982</td>\n",
       "      <td>M Chinnaswamy Stadium</td>\n",
       "      <td>1</td>\n",
       "      <td>61</td>\n",
       "    </tr>\n",
       "    <tr>\n",
       "      <th>1</th>\n",
       "      <td>335982</td>\n",
       "      <td>M Chinnaswamy Stadium</td>\n",
       "      <td>2</td>\n",
       "      <td>26</td>\n",
       "    </tr>\n",
       "    <tr>\n",
       "      <th>2</th>\n",
       "      <td>335984</td>\n",
       "      <td>Feroz Shah Kotla</td>\n",
       "      <td>1</td>\n",
       "      <td>40</td>\n",
       "    </tr>\n",
       "    <tr>\n",
       "      <th>3</th>\n",
       "      <td>335984</td>\n",
       "      <td>Feroz Shah Kotla</td>\n",
       "      <td>2</td>\n",
       "      <td>55</td>\n",
       "    </tr>\n",
       "    <tr>\n",
       "      <th>4</th>\n",
       "      <td>335985</td>\n",
       "      <td>Wankhede Stadium</td>\n",
       "      <td>1</td>\n",
       "      <td>47</td>\n",
       "    </tr>\n",
       "    <tr>\n",
       "      <th>...</th>\n",
       "      <td>...</td>\n",
       "      <td>...</td>\n",
       "      <td>...</td>\n",
       "      <td>...</td>\n",
       "    </tr>\n",
       "    <tr>\n",
       "      <th>634</th>\n",
       "      <td>1254058</td>\n",
       "      <td>MA Chidambaram Stadium, Chepauk, Chennai</td>\n",
       "      <td>2</td>\n",
       "      <td>46</td>\n",
       "    </tr>\n",
       "    <tr>\n",
       "      <th>635</th>\n",
       "      <td>1254059</td>\n",
       "      <td>Wankhede Stadium, Mumbai</td>\n",
       "      <td>1</td>\n",
       "      <td>33</td>\n",
       "    </tr>\n",
       "    <tr>\n",
       "      <th>636</th>\n",
       "      <td>1254059</td>\n",
       "      <td>Wankhede Stadium, Mumbai</td>\n",
       "      <td>2</td>\n",
       "      <td>65</td>\n",
       "    </tr>\n",
       "    <tr>\n",
       "      <th>637</th>\n",
       "      <td>1254060</td>\n",
       "      <td>MA Chidambaram Stadium, Chepauk, Chennai</td>\n",
       "      <td>1</td>\n",
       "      <td>50</td>\n",
       "    </tr>\n",
       "    <tr>\n",
       "      <th>638</th>\n",
       "      <td>1254060</td>\n",
       "      <td>MA Chidambaram Stadium, Chepauk, Chennai</td>\n",
       "      <td>2</td>\n",
       "      <td>35</td>\n",
       "    </tr>\n",
       "  </tbody>\n",
       "</table>\n",
       "<p>639 rows × 4 columns</p>\n",
       "</div>"
      ],
      "text/plain": [
       "     match_id                                     venue  innings  score\n",
       "0      335982                     M Chinnaswamy Stadium        1     61\n",
       "1      335982                     M Chinnaswamy Stadium        2     26\n",
       "2      335984                          Feroz Shah Kotla        1     40\n",
       "3      335984                          Feroz Shah Kotla        2     55\n",
       "4      335985                          Wankhede Stadium        1     47\n",
       "..        ...                                       ...      ...    ...\n",
       "634   1254058  MA Chidambaram Stadium, Chepauk, Chennai        2     46\n",
       "635   1254059                  Wankhede Stadium, Mumbai        1     33\n",
       "636   1254059                  Wankhede Stadium, Mumbai        2     65\n",
       "637   1254060  MA Chidambaram Stadium, Chepauk, Chennai        1     50\n",
       "638   1254060  MA Chidambaram Stadium, Chepauk, Chennai        2     35\n",
       "\n",
       "[639 rows x 4 columns]"
      ]
     },
     "execution_count": 30,
     "metadata": {},
     "output_type": "execute_result"
    }
   ],
   "source": [
    "z"
   ]
  },
  {
   "cell_type": "code",
   "execution_count": 31,
   "metadata": {},
   "outputs": [],
   "source": [
    "new_venue=new_venue.merge(z,how='inner',on=['match_id','venue','innings'])"
   ]
  },
  {
   "cell_type": "code",
   "execution_count": 32,
   "metadata": {},
   "outputs": [
    {
     "data": {
      "text/html": [
       "<div>\n",
       "<style scoped>\n",
       "    .dataframe tbody tr th:only-of-type {\n",
       "        vertical-align: middle;\n",
       "    }\n",
       "\n",
       "    .dataframe tbody tr th {\n",
       "        vertical-align: top;\n",
       "    }\n",
       "\n",
       "    .dataframe thead th {\n",
       "        text-align: right;\n",
       "    }\n",
       "</style>\n",
       "<table border=\"1\" class=\"dataframe\">\n",
       "  <thead>\n",
       "    <tr style=\"text-align: right;\">\n",
       "      <th></th>\n",
       "      <th>match_id</th>\n",
       "      <th>venue</th>\n",
       "      <th>innings</th>\n",
       "      <th>batting_team</th>\n",
       "      <th>bowling_team</th>\n",
       "      <th>ball</th>\n",
       "      <th>total_runs</th>\n",
       "      <th>score</th>\n",
       "    </tr>\n",
       "  </thead>\n",
       "  <tbody>\n",
       "    <tr>\n",
       "      <th>0</th>\n",
       "      <td>335982</td>\n",
       "      <td>M Chinnaswamy Stadium</td>\n",
       "      <td>1</td>\n",
       "      <td>Kolkata Knight Riders</td>\n",
       "      <td>Royal Challengers Bangalore</td>\n",
       "      <td>0.1</td>\n",
       "      <td>1</td>\n",
       "      <td>61</td>\n",
       "    </tr>\n",
       "    <tr>\n",
       "      <th>1</th>\n",
       "      <td>335982</td>\n",
       "      <td>M Chinnaswamy Stadium</td>\n",
       "      <td>1</td>\n",
       "      <td>Kolkata Knight Riders</td>\n",
       "      <td>Royal Challengers Bangalore</td>\n",
       "      <td>0.2</td>\n",
       "      <td>0</td>\n",
       "      <td>61</td>\n",
       "    </tr>\n",
       "    <tr>\n",
       "      <th>2</th>\n",
       "      <td>335982</td>\n",
       "      <td>M Chinnaswamy Stadium</td>\n",
       "      <td>1</td>\n",
       "      <td>Kolkata Knight Riders</td>\n",
       "      <td>Royal Challengers Bangalore</td>\n",
       "      <td>0.3</td>\n",
       "      <td>1</td>\n",
       "      <td>61</td>\n",
       "    </tr>\n",
       "    <tr>\n",
       "      <th>3</th>\n",
       "      <td>335982</td>\n",
       "      <td>M Chinnaswamy Stadium</td>\n",
       "      <td>1</td>\n",
       "      <td>Kolkata Knight Riders</td>\n",
       "      <td>Royal Challengers Bangalore</td>\n",
       "      <td>0.4</td>\n",
       "      <td>0</td>\n",
       "      <td>61</td>\n",
       "    </tr>\n",
       "    <tr>\n",
       "      <th>4</th>\n",
       "      <td>335982</td>\n",
       "      <td>M Chinnaswamy Stadium</td>\n",
       "      <td>1</td>\n",
       "      <td>Kolkata Knight Riders</td>\n",
       "      <td>Royal Challengers Bangalore</td>\n",
       "      <td>0.5</td>\n",
       "      <td>0</td>\n",
       "      <td>61</td>\n",
       "    </tr>\n",
       "    <tr>\n",
       "      <th>...</th>\n",
       "      <td>...</td>\n",
       "      <td>...</td>\n",
       "      <td>...</td>\n",
       "      <td>...</td>\n",
       "      <td>...</td>\n",
       "      <td>...</td>\n",
       "      <td>...</td>\n",
       "      <td>...</td>\n",
       "    </tr>\n",
       "    <tr>\n",
       "      <th>23871</th>\n",
       "      <td>1254060</td>\n",
       "      <td>MA Chidambaram Stadium, Chepauk, Chennai</td>\n",
       "      <td>2</td>\n",
       "      <td>Sunrisers Hyderabad</td>\n",
       "      <td>Kolkata Knight Riders</td>\n",
       "      <td>5.2</td>\n",
       "      <td>0</td>\n",
       "      <td>35</td>\n",
       "    </tr>\n",
       "    <tr>\n",
       "      <th>23872</th>\n",
       "      <td>1254060</td>\n",
       "      <td>MA Chidambaram Stadium, Chepauk, Chennai</td>\n",
       "      <td>2</td>\n",
       "      <td>Sunrisers Hyderabad</td>\n",
       "      <td>Kolkata Knight Riders</td>\n",
       "      <td>5.3</td>\n",
       "      <td>1</td>\n",
       "      <td>35</td>\n",
       "    </tr>\n",
       "    <tr>\n",
       "      <th>23873</th>\n",
       "      <td>1254060</td>\n",
       "      <td>MA Chidambaram Stadium, Chepauk, Chennai</td>\n",
       "      <td>2</td>\n",
       "      <td>Sunrisers Hyderabad</td>\n",
       "      <td>Kolkata Knight Riders</td>\n",
       "      <td>5.4</td>\n",
       "      <td>0</td>\n",
       "      <td>35</td>\n",
       "    </tr>\n",
       "    <tr>\n",
       "      <th>23874</th>\n",
       "      <td>1254060</td>\n",
       "      <td>MA Chidambaram Stadium, Chepauk, Chennai</td>\n",
       "      <td>2</td>\n",
       "      <td>Sunrisers Hyderabad</td>\n",
       "      <td>Kolkata Knight Riders</td>\n",
       "      <td>5.5</td>\n",
       "      <td>0</td>\n",
       "      <td>35</td>\n",
       "    </tr>\n",
       "    <tr>\n",
       "      <th>23875</th>\n",
       "      <td>1254060</td>\n",
       "      <td>MA Chidambaram Stadium, Chepauk, Chennai</td>\n",
       "      <td>2</td>\n",
       "      <td>Sunrisers Hyderabad</td>\n",
       "      <td>Kolkata Knight Riders</td>\n",
       "      <td>5.6</td>\n",
       "      <td>1</td>\n",
       "      <td>35</td>\n",
       "    </tr>\n",
       "  </tbody>\n",
       "</table>\n",
       "<p>23876 rows × 8 columns</p>\n",
       "</div>"
      ],
      "text/plain": [
       "       match_id                                     venue  innings  \\\n",
       "0        335982                     M Chinnaswamy Stadium        1   \n",
       "1        335982                     M Chinnaswamy Stadium        1   \n",
       "2        335982                     M Chinnaswamy Stadium        1   \n",
       "3        335982                     M Chinnaswamy Stadium        1   \n",
       "4        335982                     M Chinnaswamy Stadium        1   \n",
       "...         ...                                       ...      ...   \n",
       "23871   1254060  MA Chidambaram Stadium, Chepauk, Chennai        2   \n",
       "23872   1254060  MA Chidambaram Stadium, Chepauk, Chennai        2   \n",
       "23873   1254060  MA Chidambaram Stadium, Chepauk, Chennai        2   \n",
       "23874   1254060  MA Chidambaram Stadium, Chepauk, Chennai        2   \n",
       "23875   1254060  MA Chidambaram Stadium, Chepauk, Chennai        2   \n",
       "\n",
       "                batting_team                 bowling_team  ball  total_runs  \\\n",
       "0      Kolkata Knight Riders  Royal Challengers Bangalore   0.1           1   \n",
       "1      Kolkata Knight Riders  Royal Challengers Bangalore   0.2           0   \n",
       "2      Kolkata Knight Riders  Royal Challengers Bangalore   0.3           1   \n",
       "3      Kolkata Knight Riders  Royal Challengers Bangalore   0.4           0   \n",
       "4      Kolkata Knight Riders  Royal Challengers Bangalore   0.5           0   \n",
       "...                      ...                          ...   ...         ...   \n",
       "23871    Sunrisers Hyderabad        Kolkata Knight Riders   5.2           0   \n",
       "23872    Sunrisers Hyderabad        Kolkata Knight Riders   5.3           1   \n",
       "23873    Sunrisers Hyderabad        Kolkata Knight Riders   5.4           0   \n",
       "23874    Sunrisers Hyderabad        Kolkata Knight Riders   5.5           0   \n",
       "23875    Sunrisers Hyderabad        Kolkata Knight Riders   5.6           1   \n",
       "\n",
       "       score  \n",
       "0         61  \n",
       "1         61  \n",
       "2         61  \n",
       "3         61  \n",
       "4         61  \n",
       "...      ...  \n",
       "23871     35  \n",
       "23872     35  \n",
       "23873     35  \n",
       "23874     35  \n",
       "23875     35  \n",
       "\n",
       "[23876 rows x 8 columns]"
      ]
     },
     "execution_count": 32,
     "metadata": {},
     "output_type": "execute_result"
    }
   ],
   "source": [
    "new_venue"
   ]
  },
  {
   "cell_type": "code",
   "execution_count": 33,
   "metadata": {},
   "outputs": [],
   "source": [
    "new_venue.drop('ball',axis=1,inplace=True)"
   ]
  },
  {
   "cell_type": "code",
   "execution_count": 34,
   "metadata": {},
   "outputs": [],
   "source": [
    "# x.fit('venue','innings','batting_team','bowling_team','ball','total_runs')"
   ]
  },
  {
   "cell_type": "code",
   "execution_count": 35,
   "metadata": {},
   "outputs": [],
   "source": [
    "cleanup_nums = {'venue' : {'Wankhede Stadium' : 1, 'Wankhede Stadium, Mumbai': 1,\n",
    "                           'Eden Gardens' : 2, \n",
    "                           'Sardar Patel Stadium, Motera': 3,'Narendra Modi Stadium' : 3,\n",
    "                           'MA Chidambaram Stadium': 4, 'MA Chidambaram Stadium, Chepauk, Chennai': 4, \n",
    "                           'MA Chidambaram Stadium, Chepauk': 4,\n",
    "                           'Arun Jaitley Stadium': 5, 'Feroz Shah Kotla': 5,\n",
    "                           'M.Chinnaswamy Stadium': 6, 'M Chinnaswamy Stadium': 6,\n",
    "                            \n",
    "                          },\n",
    "                #ignoring deccan chargers as the data is too old to consider for good accuracy\n",
    "                'batting_team' : {'Mumbai Indians': 1, \n",
    "                                  'Kolkata Knight Riders': 2, \n",
    "                                  'Royal Challengers Bangalore': 3,\n",
    "                                  'Chennai Super Kings': 4, \n",
    "                                  'Rajasthan Royals': 5, \n",
    "                                  'Kings XI Punjab': 6, 'Punjab Kings': 6, \n",
    "                                  'Sunrisers Hyderabad': 7, \n",
    "                                  'Delhi Capitals': 8, 'Delhi Daredevils': 8\n",
    "                                 },\n",
    "                'bowling_team' : {'Mumbai Indians': 1, \n",
    "                                  'Kolkata Knight Riders': 2, \n",
    "                                  'Royal Challengers Bangalore': 3,\n",
    "                                  'Chennai Super Kings': 4, \n",
    "                                  'Rajasthan Royals': 5, \n",
    "                                  'Kings XI Punjab': 6, 'Punjab Kings': 6, \n",
    "                                  'Sunrisers Hyderabad': 7, \n",
    "                                  'Delhi Capitals': 8, 'Delhi Daredevils': 8\n",
    "                                 }\n",
    "                    }"
   ]
  },
  {
   "cell_type": "code",
   "execution_count": 36,
   "metadata": {},
   "outputs": [],
   "source": [
    "new_venue=new_venue.replace(cleanup_nums)"
   ]
  },
  {
   "cell_type": "code",
   "execution_count": 37,
   "metadata": {},
   "outputs": [],
   "source": [
    "# stadium_filter_list = ['Punjab Cricket Association Stadium, Mohali','Sawai Mansingh Stadium',\n",
    "#                        'Rajiv Gandhi International Stadium, Uppal','Dr DY Patil Sports Academy','Newlands',\n",
    "#                        \"St George's Park\",'Kingsmead','SuperSport Park','Buffalo Park','New Wanderers Stadium',\n",
    "#                        'De Beers Diamond Oval','OUTsurance Oval','Brabourne Stadium','Barabati Stadium',\n",
    "#                        'Vidarbha Cricket Association Stadium, Jamtha','Himachal Pradesh Cricket Association Stadium',\n",
    "#                        'Nehru Stadium','Holkar Cricket Stadium','Dr. Y.S. Rajasekhara Reddy ACA-VDCA Cricket Stadium',\n",
    "#                        'Subrata Roy Sahara Stadium','Shaheed Veer Narayan Singh International Stadium',\n",
    "#                        'JSCA International Stadium Complex','Sheikh Zayed Stadium','Sharjah Cricket Stadium',\n",
    "#                        'Dubai International Cricket Stadium','Maharashtra Cricket Association Stadium',\n",
    "#                        'Punjab Cricket Association IS Bindra Stadium, Mohali','Saurashtra Cricket Association Stadium',\n",
    "#                        'Green Park','Rajiv Gandhi International Stadium','Punjab Cricket Association IS Bindra Stadium'\n",
    "#                       ]\n",
    "                       "
   ]
  },
  {
   "cell_type": "code",
   "execution_count": 38,
   "metadata": {},
   "outputs": [],
   "source": [
    "# df[df.venue.str.lower().str.contains('sardar')]['venue'].unique()"
   ]
  },
  {
   "cell_type": "code",
   "execution_count": 56,
   "metadata": {},
   "outputs": [
    {
     "data": {
      "text/plain": [
       "match_id        336013\n",
       "venue                4\n",
       "innings              1\n",
       "batting_team         4\n",
       "bowling_team         6\n",
       "total_runs           0\n",
       "score               53\n",
       "Name: 1000, dtype: int64"
      ]
     },
     "execution_count": 56,
     "metadata": {},
     "output_type": "execute_result"
    }
   ],
   "source": [
    "new_venue.iloc[1000]"
   ]
  },
  {
   "cell_type": "code",
   "execution_count": 68,
   "metadata": {},
   "outputs": [
    {
     "name": "stdout",
     "output_type": "stream",
     "text": [
      "R square value: 0.27677367317087187\n",
      "Custom accuracy: 46.71087070319316\n",
      "Prediction score: 42\n"
     ]
    }
   ],
   "source": [
    "def custom_accuracy(y_test,y_pred,thresold):\n",
    "    right = 0\n",
    "\n",
    "    l = len(y_pred)\n",
    "    for i in range(0,l):\n",
    "        if(abs(y_pred[i]-y_test[i]) <= thresold):\n",
    "            right += 1\n",
    "    return ((right/l)*100)\n",
    "\n",
    "\n",
    "# import pandas as pd\n",
    "# Importing the dataset\n",
    "# dataset = pd.read_csv('data/odi.csv')\n",
    "X = new_venue.iloc[:, 1:5].values\n",
    "y = new_venue.iloc[:, -1].values\n",
    "\n",
    "\n",
    "# Splitting the dataset into the Training set and Test set\n",
    "from sklearn.model_selection import train_test_split\n",
    "X_train, X_test, y_train, y_test = train_test_split(X, y, test_size = 0.24, random_state = 0)\n",
    "\n",
    "# Feature Scaling\n",
    "from sklearn.preprocessing import StandardScaler\n",
    "sc = StandardScaler()\n",
    "X_train = sc.fit_transform(X_train)\n",
    "X_test = sc.transform(X_test)\n",
    "\n",
    "# Training the dataset\n",
    "from sklearn.ensemble import RandomForestRegressor\n",
    "lin = RandomForestRegressor()\n",
    "lin.fit(X_train,y_train)\n",
    "\n",
    "# Testing the dataset on trained model\n",
    "y_pred = lin.predict(X_test)\n",
    "y_pred\n",
    "# score = lin.score(X_test,y_test)\n",
    "print(\"R square value:\" , score)\n",
    "print(\"Custom accuracy:\" , custom_accuracy(y_test,y_pred,5))\n",
    "\n",
    "import numpy as np\n",
    "new_prediction = lin.predict(sc.transform(np.array([[4,1,1,4]])))\n",
    "print(\"Prediction score:\" , int(new_prediction))"
   ]
  },
  {
   "cell_type": "code",
   "execution_count": null,
   "metadata": {},
   "outputs": [],
   "source": []
  },
  {
   "cell_type": "code",
   "execution_count": null,
   "metadata": {},
   "outputs": [],
   "source": [
    "# import pickle\n",
    "# pickle.dump(lin, open('model.pkl','wb'))\n",
    "# model = pickle.load(open('model.pkl','rb'))\n",
    "\n",
    "# tuple_objects = (model, X_train, y_pred, score)\n",
    "# pickle.dump(tuple_objects, open(\"tuple_model.pkl\", 'wb'))\n",
    "\n",
    "# pickled_model, pickled_Xtrain, pickled_Ytrain, pickled_score = pickle.load(open(\"tuple_model.pkl\", 'rb'))\n",
    "# pkl_filename = \"pickle_model.pkl\"\n",
    "# # with open(pkl_filename, 'wb') as file:\n",
    "# #     pickle.dump(model, file)\n",
    "\n",
    "# # with open(pkl_filename, 'rb') as file:\n",
    "# #     pickle_model = pickle.load(file)\n"
   ]
  },
  {
   "cell_type": "code",
   "execution_count": null,
   "metadata": {},
   "outputs": [],
   "source": []
  }
 ],
 "metadata": {
  "kernelspec": {
   "display_name": "Python 3",
   "language": "python",
   "name": "python3"
  },
  "language_info": {
   "codemirror_mode": {
    "name": "ipython",
    "version": 3
   },
   "file_extension": ".py",
   "mimetype": "text/x-python",
   "name": "python",
   "nbconvert_exporter": "python",
   "pygments_lexer": "ipython3",
   "version": "3.8.8"
  }
 },
 "nbformat": 4,
 "nbformat_minor": 2
}
